{
  "nbformat": 4,
  "nbformat_minor": 0,
  "metadata": {
    "colab": {
      "provenance": []
    },
    "kernelspec": {
      "name": "python3",
      "display_name": "Python 3"
    },
    "language_info": {
      "name": "python"
    }
  },
  "cells": [
    {
      "cell_type": "code",
      "execution_count": 1,
      "metadata": {
        "colab": {
          "base_uri": "https://localhost:8080/"
        },
        "id": "tfQtZnjFOkWh",
        "outputId": "10ca5652-e705-4bd1-85ee-3a35f1bdef28"
      },
      "outputs": [
        {
          "output_type": "stream",
          "name": "stdout",
          "text": [
            "languageID/\n",
            "languageID/e0.txt\n",
            "languageID/e10.txt\n",
            "languageID/e11.txt\n",
            "languageID/e12.txt\n",
            "languageID/e13.txt\n",
            "languageID/e14.txt\n",
            "languageID/e15.txt\n",
            "languageID/e16.txt\n",
            "languageID/e17.txt\n",
            "languageID/e18.txt\n",
            "languageID/e19.txt\n",
            "languageID/e1.txt\n",
            "languageID/e2.txt\n",
            "languageID/e3.txt\n",
            "languageID/e4.txt\n",
            "languageID/e5.txt\n",
            "languageID/e6.txt\n",
            "languageID/e7.txt\n",
            "languageID/e8.txt\n",
            "languageID/e9.txt\n",
            "languageID/j0.txt\n",
            "languageID/j10.txt\n",
            "languageID/j11.txt\n",
            "languageID/j12.txt\n",
            "languageID/j13.txt\n",
            "languageID/j14.txt\n",
            "languageID/j15.txt\n",
            "languageID/j16.txt\n",
            "languageID/j17.txt\n",
            "languageID/j18.txt\n",
            "languageID/j19.txt\n",
            "languageID/j1.txt\n",
            "languageID/j2.txt\n",
            "languageID/j3.txt\n",
            "languageID/j4.txt\n",
            "languageID/j5.txt\n",
            "languageID/j6.txt\n",
            "languageID/j7.txt\n",
            "languageID/j8.txt\n",
            "languageID/j9.txt\n",
            "languageID/s0.txt\n",
            "languageID/s1.txt\n",
            "languageID/s10.txt\n",
            "languageID/s11.txt\n",
            "languageID/s12.txt\n",
            "languageID/s13.txt\n",
            "languageID/s14.txt\n",
            "languageID/s15.txt\n",
            "languageID/s16.txt\n",
            "languageID/s17.txt\n",
            "languageID/s18.txt\n",
            "languageID/s19.txt\n",
            "languageID/s2.txt\n",
            "languageID/s3.txt\n",
            "languageID/s4.txt\n",
            "languageID/s5.txt\n",
            "languageID/s6.txt\n",
            "languageID/s7.txt\n",
            "languageID/s8.txt\n",
            "languageID/s9.txt\n"
          ]
        }
      ],
      "source": [
        "!tar zxvf languageID.tgz"
      ]
    },
    {
      "cell_type": "code",
      "source": [
        "import os\n",
        "import math\n",
        "import numpy as np\n",
        "import re\n",
        "import string\n",
        "import matplotlib.pyplot as plt"
      ],
      "metadata": {
        "id": "LqSyGahHPZsG"
      },
      "execution_count": 2,
      "outputs": []
    },
    {
      "cell_type": "code",
      "source": [
        "def filename_list(dir):\n",
        "    fs = []\n",
        "    dir = os.path.expanduser(dir)\n",
        "    for filename in os.listdir(dir):\n",
        "        file_path = os.path.join(dir, filename)\n",
        "        fs.append(file_path)\n",
        "    return fs"
      ],
      "metadata": {
        "id": "jVh7iSB2QpHn"
      },
      "execution_count": 3,
      "outputs": []
    },
    {
      "cell_type": "code",
      "source": [
        "def read_text_file(file_path):\n",
        "    with open(file_path, 'r') as f:\n",
        "        contents = f.read()\n",
        "    return contents"
      ],
      "metadata": {
        "id": "swBAqQYUSq1v"
      },
      "execution_count": 4,
      "outputs": []
    },
    {
      "cell_type": "code",
      "source": [
        "lists = filename_list('languageID/')\n",
        "langs= ['e', 'j', 's']\n",
        "langs_count = dict.fromkeys(langs, {})\n",
        "for key in lists:\n",
        "  temp_langs=re.split('([0-9,/]+)', key) \n",
        "  if int(temp_langs[3]) <=9:\n",
        "    s = read_text_file(key)\n",
        "    d_ = dict.fromkeys(string.ascii_lowercase, 0)\n",
        "    d_[\" \"] = 0\n",
        "    for char in s:\n",
        "      if not char == \"\\n\":\n",
        "        d_[char] = d_[char]+1\n",
        "\n",
        "    if langs_count[temp_langs[2]] =={}:\n",
        "      langs_count[temp_langs[2]] =d_\n",
        "    else:\n",
        "      list_temp = list(langs_count[temp_langs[2]].values())\n",
        "      d_temp = list(d_.values())\n",
        "      res_list = [sum(i) for i in zip(list_temp, d_temp )]\n",
        "      new_dict_ls = [i for i in string.ascii_lowercase]+[' ']\n",
        "      new_dist = dict(zip(new_dict_ls, res_list))\n",
        "      langs_count[temp_langs[2]] = new_dist \n"
      ],
      "metadata": {
        "id": "8OZ2q3vWQAl3"
      },
      "execution_count": 5,
      "outputs": []
    },
    {
      "cell_type": "markdown",
      "source": [
        "#2.2 - 2.3 conditional probability "
      ],
      "metadata": {
        "id": "iKNOhMCl2ZS-"
      }
    },
    {
      "cell_type": "code",
      "source": [
        "total_ = sum(langs_count['e'].values())\n",
        "\n",
        "for i in [i for i in string.ascii_lowercase]+[' ']:\n",
        "  if i ==' ':\n",
        "    print('For class space, the conditional probability is {}'.format((langs_count['e'][i]+0.5)/(sum(langs_count['e'].values())+27*0.5)))\n",
        "  else:\n",
        "    print('For class {}, the conditional probability is {}'.format(i,(langs_count['e'][i]+0.5)/(sum(langs_count['e'].values())+27*0.5)))"
      ],
      "metadata": {
        "colab": {
          "base_uri": "https://localhost:8080/"
        },
        "id": "k6BmvPpp2Yfa",
        "outputId": "d5b890dc-56cc-449c-8060-2e5f05553906"
      },
      "execution_count": 6,
      "outputs": [
        {
          "output_type": "stream",
          "name": "stdout",
          "text": [
            "For class a, the conditional probability is 0.0601685114819098\n",
            "For class b, the conditional probability is 0.011134974392863043\n",
            "For class c, the conditional probability is 0.021509995043779945\n",
            "For class d, the conditional probability is 0.021972575582355856\n",
            "For class e, the conditional probability is 0.1053692383941847\n",
            "For class f, the conditional probability is 0.018932760614571286\n",
            "For class g, the conditional probability is 0.017478936064761277\n",
            "For class h, the conditional probability is 0.047216256401784236\n",
            "For class i, the conditional probability is 0.055410540227986124\n",
            "For class j, the conditional probability is 0.001420783082768875\n",
            "For class k, the conditional probability is 0.0037336857756484387\n",
            "For class l, the conditional probability is 0.028977366595076822\n",
            "For class m, the conditional probability is 0.020518751032545846\n",
            "For class n, the conditional probability is 0.057921691723112505\n",
            "For class o, the conditional probability is 0.06446390219725756\n",
            "For class p, the conditional probability is 0.01675202378985627\n",
            "For class q, the conditional probability is 0.0005617049396993227\n",
            "For class r, the conditional probability is 0.053824549810011564\n",
            "For class s, the conditional probability is 0.06618205848339666\n",
            "For class t, the conditional probability is 0.08012555757475633\n",
            "For class u, the conditional probability is 0.026664463902197257\n",
            "For class v, the conditional probability is 0.009284652238559392\n",
            "For class w, the conditional probability is 0.015496448042293078\n",
            "For class x, the conditional probability is 0.001156451346439782\n",
            "For class y, the conditional probability is 0.013844374690236246\n",
            "For class z, the conditional probability is 0.0006277878737815959\n",
            "For class space, the conditional probability is 0.1792499586981662\n"
          ]
        }
      ]
    },
    {
      "cell_type": "code",
      "source": [
        "total_ = sum(langs_count['j'].values())\n",
        "\n",
        "for i in [i for i in string.ascii_lowercase]+[' ']:\n",
        "  if i ==' ':\n",
        "    print('For class space, the conditional probability is {}'.format((langs_count['j'][i]+0.5)/(sum(langs_count['j'].values())+27*0.5)))\n",
        "  else:\n",
        "    print('For class {}, the conditional probability is {}'.format(i,(langs_count['j'][i]+0.5)/(sum(langs_count['j'].values())+27*0.5)))"
      ],
      "metadata": {
        "colab": {
          "base_uri": "https://localhost:8080/"
        },
        "id": "BIUepnDf19ed",
        "outputId": "f142f9ca-347c-4544-92bd-fc0f06bb8521"
      },
      "execution_count": 7,
      "outputs": [
        {
          "output_type": "stream",
          "name": "stdout",
          "text": [
            "For class a, the conditional probability is 0.1317656102589189\n",
            "For class b, the conditional probability is 0.010866906600510151\n",
            "For class c, the conditional probability is 0.005485866033054963\n",
            "For class d, the conditional probability is 0.01722631818022992\n",
            "For class e, the conditional probability is 0.06020475907613823\n",
            "For class f, the conditional probability is 0.003878542227191726\n",
            "For class g, the conditional probability is 0.014011670568503443\n",
            "For class h, the conditional probability is 0.03176211607673224\n",
            "For class i, the conditional probability is 0.09703343932352633\n",
            "For class j, the conditional probability is 0.0023411020650616725\n",
            "For class k, the conditional probability is 0.05740941332681086\n",
            "For class l, the conditional probability is 0.001432614696530277\n",
            "For class m, the conditional probability is 0.03979873510604843\n",
            "For class n, the conditional probability is 0.05671057688947902\n",
            "For class o, the conditional probability is 0.09116321324993885\n",
            "For class p, the conditional probability is 0.0008735455466648031\n",
            "For class q, the conditional probability is 0.00010482546559977637\n",
            "For class r, the conditional probability is 0.04280373178657535\n",
            "For class s, the conditional probability is 0.0421747789929767\n",
            "For class t, the conditional probability is 0.056990111464411755\n",
            "For class u, the conditional probability is 0.07061742199238269\n",
            "For class v, the conditional probability is 0.0002445927530661449\n",
            "For class w, the conditional probability is 0.01974212935462455\n",
            "For class x, the conditional probability is 3.4941821866592126e-05\n",
            "For class y, the conditional probability is 0.01415143785596981\n",
            "For class z, the conditional probability is 0.00772214263251686\n",
            "For class space, the conditional probability is 0.12344945665466997\n"
          ]
        }
      ]
    },
    {
      "cell_type": "code",
      "source": [
        "total_ = sum(langs_count['s'].values())\n",
        "\n",
        "for i in [i for i in string.ascii_lowercase]+[' ']:\n",
        "  if i ==' ':\n",
        "    print('For class space, the conditional probability is {}'.format((langs_count['s'][i]+0.5)/(sum(langs_count['s'].values())+27*0.5)))\n",
        "  else:\n",
        "    print('For class {}, the conditional probability is {}'.format(i,(langs_count['s'][i]+0.5)/(sum(langs_count['s'].values())+27*0.5)))"
      ],
      "metadata": {
        "colab": {
          "base_uri": "https://localhost:8080/"
        },
        "id": "OO2XtvIE3H7u",
        "outputId": "72d5011c-3748-4ab2-a96c-aa29f8c9e9be"
      },
      "execution_count": 8,
      "outputs": [
        {
          "output_type": "stream",
          "name": "stdout",
          "text": [
            "For class a, the conditional probability is 0.10456045141993771\n",
            "For class b, the conditional probability is 0.008232863618143134\n",
            "For class c, the conditional probability is 0.03752582405722919\n",
            "For class d, the conditional probability is 0.039745922111559924\n",
            "For class e, the conditional probability is 0.1138108599796491\n",
            "For class f, the conditional probability is 0.00860287996053159\n",
            "For class g, the conditional probability is 0.0071844839813758445\n",
            "For class h, the conditional probability is 0.0045327001942585795\n",
            "For class i, the conditional probability is 0.049859702136844375\n",
            "For class j, the conditional probability is 0.006629459467793161\n",
            "For class k, the conditional probability is 0.0002775122567913416\n",
            "For class l, the conditional probability is 0.052943171656748174\n",
            "For class m, the conditional probability is 0.02580863988159477\n",
            "For class n, the conditional probability is 0.054176559464709693\n",
            "For class o, the conditional probability is 0.07249236841293824\n",
            "For class p, the conditional probability is 0.02426690512164287\n",
            "For class q, the conditional probability is 0.007677839104560451\n",
            "For class r, the conditional probability is 0.05929511886774999\n",
            "For class s, the conditional probability is 0.06577040485954797\n",
            "For class t, the conditional probability is 0.03561407295488884\n",
            "For class u, the conditional probability is 0.03370232185254849\n",
            "For class v, the conditional probability is 0.00588942678301625\n",
            "For class w, the conditional probability is 9.250408559711388e-05\n",
            "For class x, the conditional probability is 0.0024976103111220747\n",
            "For class y, the conditional probability is 0.007862847275754679\n",
            "For class z, the conditional probability is 0.0026826184823163022\n",
            "For class space, the conditional probability is 0.16826493170115014\n"
          ]
        }
      ]
    },
    {
      "cell_type": "markdown",
      "source": [
        "#2.4"
      ],
      "metadata": {
        "id": "8x9cFMrP8lh0"
      }
    },
    {
      "cell_type": "code",
      "source": [
        "key1 = os.path.join('languageID/','e10.txt')\n",
        "s1 = read_text_file(key1)\n",
        "d_1 = dict.fromkeys(string.ascii_lowercase, 0)\n",
        "d_1[\" \"] = 0\n",
        "for char in s1:\n",
        "  if not char == \"\\n\":\n",
        "    d_1[char] = d_1[char]+1\n"
      ],
      "metadata": {
        "id": "DrN2n29o4yDp"
      },
      "execution_count": 9,
      "outputs": []
    },
    {
      "cell_type": "code",
      "source": [
        "for i in [i for i in string.ascii_lowercase]+[' ']:\n",
        "  if i ==' ':\n",
        "    print('For class space, the count in e10.txt is {}'.format(d_1[i]))\n",
        "  else:\n",
        "    print('For class {}, the count in e10.txt is {}'.format(i,d_1[i]))"
      ],
      "metadata": {
        "colab": {
          "base_uri": "https://localhost:8080/"
        },
        "id": "aZVyeqPb93vF",
        "outputId": "6a3506fd-2edb-4f75-dc2b-864e9ca83a54"
      },
      "execution_count": 10,
      "outputs": [
        {
          "output_type": "stream",
          "name": "stdout",
          "text": [
            "For class a, the count in e10.txt is 164\n",
            "For class b, the count in e10.txt is 32\n",
            "For class c, the count in e10.txt is 53\n",
            "For class d, the count in e10.txt is 57\n",
            "For class e, the count in e10.txt is 311\n",
            "For class f, the count in e10.txt is 55\n",
            "For class g, the count in e10.txt is 51\n",
            "For class h, the count in e10.txt is 140\n",
            "For class i, the count in e10.txt is 140\n",
            "For class j, the count in e10.txt is 3\n",
            "For class k, the count in e10.txt is 6\n",
            "For class l, the count in e10.txt is 85\n",
            "For class m, the count in e10.txt is 64\n",
            "For class n, the count in e10.txt is 139\n",
            "For class o, the count in e10.txt is 182\n",
            "For class p, the count in e10.txt is 53\n",
            "For class q, the count in e10.txt is 3\n",
            "For class r, the count in e10.txt is 141\n",
            "For class s, the count in e10.txt is 186\n",
            "For class t, the count in e10.txt is 225\n",
            "For class u, the count in e10.txt is 65\n",
            "For class v, the count in e10.txt is 31\n",
            "For class w, the count in e10.txt is 47\n",
            "For class x, the count in e10.txt is 4\n",
            "For class y, the count in e10.txt is 38\n",
            "For class z, the count in e10.txt is 2\n",
            "For class space, the count in e10.txt is 498\n"
          ]
        }
      ]
    },
    {
      "cell_type": "markdown",
      "source": [
        "# 2.5"
      ],
      "metadata": {
        "id": "MQ8uc_jr_S6O"
      }
    },
    {
      "cell_type": "code",
      "source": [
        "langs_log_l = dict.fromkeys(langs,0.)\n",
        "for lang in langs:\n",
        "  log_ = 0.\n",
        "  for char in [i for i in string.ascii_lowercase]+[' ']:\n",
        "    if langs_count[lang][char] ==0:\n",
        "      log_= log_ + math.log(0.5 / 27*0.5) * d_1[char]\n",
        "    else:\n",
        "      log_= log_ + math.log((langs_count[lang][char]+0.5)/(sum(langs_count[lang].values())+27*0.5)) * d_1[char]\n",
        "  langs_log_l[lang] = log_\n",
        "  print('For language {}, the probability in e10.txt is {}'.format(lang,langs_log_l[lang]))\n",
        "\n"
      ],
      "metadata": {
        "id": "HvGGQW_v-RGb",
        "colab": {
          "base_uri": "https://localhost:8080/"
        },
        "outputId": "ee6478d1-b736-4b37-829a-98227ccc26f9"
      },
      "execution_count": 11,
      "outputs": [
        {
          "output_type": "stream",
          "name": "stdout",
          "text": [
            "For language e, the probability in e10.txt is -7841.865447060635\n",
            "For language j, the probability in e10.txt is -8749.114299535933\n",
            "For language s, the probability in e10.txt is -8467.282044010557\n"
          ]
        }
      ]
    },
    {
      "cell_type": "markdown",
      "source": [
        "#2.7"
      ],
      "metadata": {
        "id": "F-OGCsVuyuo7"
      }
    },
    {
      "cell_type": "code",
      "source": [
        "def predict_likely(langs_count,d_1):\n",
        "  langs_log_l = dict.fromkeys(langs,0.) \n",
        "  for lang in langs:\n",
        "    log_ = 0.\n",
        "    for char in [i for i in string.ascii_lowercase]+[' ']:\n",
        "      if langs_count[lang][char] ==0:\n",
        "        log_= log_ + math.log(0.5 / 27*0.5) * d_1[char]\n",
        "      else:\n",
        "        log_= log_ + math.log((langs_count[lang][char]+0.5)/(sum(langs_count[lang].values())+27*0.5)) * d_1[char]\n",
        "    langs_log_l[lang] = log_\n",
        "    \n",
        "  return langs_log_l"
      ],
      "metadata": {
        "id": "j215t6Pix4kQ"
      },
      "execution_count": 12,
      "outputs": []
    },
    {
      "cell_type": "code",
      "source": [
        "langs_count1 = dict.fromkeys(langs, 0.)\n",
        "for key in lists:\n",
        "  temp_langs=re.split('([0-9,/]+)', key) \n",
        "  if int(temp_langs[3]) >9:\n",
        "    s = read_text_file(key)\n",
        "    d_ = dict.fromkeys(string.ascii_lowercase, 0)\n",
        "    d_[\" \"] = 0\n",
        "    for char in s:\n",
        "      if not char == \"\\n\":\n",
        "        d_[char] = d_[char]+1\n",
        "    temp_pred = predict_likely(langs_count,d_) \n",
        "    res = {key:val for key,val in temp_pred.items() if val == max(temp_pred.values())}\n",
        "    langs_count1[list(res.keys())[0]]+=1\n",
        "    print('For language {}, the prediction is {}'.format(temp_langs[2] ,list(res.keys())[0]) )"
      ],
      "metadata": {
        "colab": {
          "base_uri": "https://localhost:8080/"
        },
        "id": "bOV1NUE7AwiF",
        "outputId": "c3e6fe1c-4f28-41f3-eccf-2a2c44a302d6"
      },
      "execution_count": 13,
      "outputs": [
        {
          "output_type": "stream",
          "name": "stdout",
          "text": [
            "For language e, the prediction is e\n",
            "For language e, the prediction is e\n",
            "For language j, the prediction is j\n",
            "For language e, the prediction is e\n",
            "For language j, the prediction is j\n",
            "For language e, the prediction is e\n",
            "For language j, the prediction is j\n",
            "For language e, the prediction is e\n",
            "For language s, the prediction is s\n",
            "For language j, the prediction is j\n",
            "For language j, the prediction is j\n",
            "For language e, the prediction is e\n",
            "For language s, the prediction is s\n",
            "For language j, the prediction is j\n",
            "For language s, the prediction is s\n",
            "For language j, the prediction is j\n",
            "For language s, the prediction is s\n",
            "For language e, the prediction is e\n",
            "For language e, the prediction is e\n",
            "For language s, the prediction is s\n",
            "For language s, the prediction is s\n",
            "For language s, the prediction is s\n",
            "For language j, the prediction is j\n",
            "For language e, the prediction is e\n",
            "For language j, the prediction is j\n",
            "For language e, the prediction is e\n",
            "For language s, the prediction is s\n",
            "For language s, the prediction is s\n",
            "For language j, the prediction is j\n",
            "For language s, the prediction is s\n"
          ]
        }
      ]
    },
    {
      "cell_type": "code",
      "source": [
        "langs_count1"
      ],
      "metadata": {
        "colab": {
          "base_uri": "https://localhost:8080/"
        },
        "id": "lbDRc3KJAUxE",
        "outputId": "24a71cc5-94d3-416a-b88f-891a51ac0e65"
      },
      "execution_count": 14,
      "outputs": [
        {
          "output_type": "execute_result",
          "data": {
            "text/plain": [
              "{'e': 10.0, 'j': 10.0, 's': 10.0}"
            ]
          },
          "metadata": {},
          "execution_count": 14
        }
      ]
    },
    {
      "cell_type": "markdown",
      "source": [
        "#3 Nerual Network"
      ],
      "metadata": {
        "id": "qQ2a_nbyTWu4"
      }
    },
    {
      "cell_type": "code",
      "source": [
        "import torch\n",
        "import torchvision\n",
        "from torchvision import transforms\n",
        "from torch.utils.data import DataLoader\n",
        "import torch.nn as nn\n",
        "batch_size = 64\n",
        "transform = transforms.Compose([transforms.ToTensor(), transforms.Normalize((0.5,), (0.5,))])\n",
        "\n",
        "train_set = torchvision.datasets.MNIST(root='./data', train=True, download=True, transform=transform)\n",
        "test_set = torchvision.datasets.MNIST(root='./data', train=False, download=True, transform=transform)\n",
        "\n",
        "train_loader = DataLoader(train_set, batch_size=batch_size, shuffle=True)\n",
        "test_loader = DataLoader(test_set, batch_size=batch_size, shuffle=False)\n"
      ],
      "metadata": {
        "id": "Mp2CW7Ve6cHA"
      },
      "execution_count": 15,
      "outputs": []
    },
    {
      "cell_type": "code",
      "source": [
        "len(train_set)"
      ],
      "metadata": {
        "colab": {
          "base_uri": "https://localhost:8080/"
        },
        "id": "r-uUsyLP9jap",
        "outputId": "3fd573d1-cb0a-4f08-d5f4-58b42fb0242f"
      },
      "execution_count": 16,
      "outputs": [
        {
          "output_type": "execute_result",
          "data": {
            "text/plain": [
              "60000"
            ]
          },
          "metadata": {},
          "execution_count": 16
        }
      ]
    },
    {
      "cell_type": "code",
      "source": [
        "def sigmoid(x):\n",
        "  return 1 / (1 + torch.exp(-x))\n",
        "\n",
        "def sigmoid_derivative(x):\n",
        "  return sigmoid(x)*(1-sigmoid(x))\n",
        "\n",
        "def softmax(x):\n",
        "    e_ = torch.exp(x - torch.max(x, axis=-1, keepdims=True).values)\n",
        "    return e_ / torch.sum(e_, axis=-1, keepdims=True)\n",
        "def cross_entropy(y, y_hat):\n",
        "   return -torch.sum(y * torch.log(y_hat + 1e-5), dim=-1)"
      ],
      "metadata": {
        "id": "FmhwoGm2p2AB"
      },
      "execution_count": 17,
      "outputs": []
    },
    {
      "cell_type": "code",
      "source": [
        "n = len(train_set)\n",
        "m = 784"
      ],
      "metadata": {
        "id": "2RIhMSV7xHOz"
      },
      "execution_count": 18,
      "outputs": []
    },
    {
      "cell_type": "code",
      "source": [
        "#kaiming init\n",
        "nh1 = 300\n",
        "nh2 = 200\n",
        "nh3 = 10\n",
        "w1 = torch.randn(m,nh1)*math.sqrt(2/m)\n",
        "w2 = torch.randn(nh1,nh2)/math.sqrt(nh1)\n",
        "w3 = torch.randn(nh2,nh3)/math.sqrt(nh2)"
      ],
      "metadata": {
        "id": "hK92oWf1wqCe"
      },
      "execution_count": 19,
      "outputs": []
    },
    {
      "cell_type": "code",
      "source": [
        "def forward_(inp, targ):\n",
        "    # forward pass:\n",
        "    z1 = inp @ w1\n",
        "    a1 = sigmoid(z1)\n",
        "    z2 = a1 @ w2 \n",
        "    a2 = sigmoid(z2)\n",
        "    z3 = a2 @ w3 \n",
        "    a3 = softmax(z3)\n",
        "    loss = cross_entropy(targ, a3)\n",
        "    return loss,a3,z3,z2,z1, a2, a1\n"
      ],
      "metadata": {
        "id": "x0nHmYPCudCr"
      },
      "execution_count": 20,
      "outputs": []
    },
    {
      "cell_type": "code",
      "source": [
        "learning_rate = 0.01\n",
        "epochs = 20\n",
        "loss_curve_train = []\n",
        "# Training loop\n",
        "for epoch in range(epochs):\n",
        "    total_loss_train = 0\n",
        "    \n",
        "    for X_batch, y_batch in train_loader:\n",
        "        X = X_batch.view(-1, m)\n",
        "        y = torch.zeros(y_batch.shape[0], nh3).scatter_(1, y_batch.unsqueeze(1), 1)\n",
        "        \n",
        "        loss,y_hat,z3,z2,z1,a2,a1 = forward_(X, y)\n",
        "        loss = loss.mean()\n",
        "        total_loss_train  += loss.item()\n",
        "        \n",
        "        output_error = y_hat - y\n",
        "        hidden_error =  a2.t() @ output_error \n",
        "\n",
        "        w3 -= learning_rate * hidden_error / X.shape[0]\n",
        "        w2l = a1.t() @ ( torch.mm(output_error, w3.t()) * sigmoid_derivative(z2))\n",
        "        w2 -= learning_rate * w2l / X.shape[0]\n",
        "        w1 -= learning_rate * X.t() @( torch.mm( torch.mm(output_error, w3.t()) * sigmoid_derivative(z2), w2.t()) *sigmoid_derivative(z1) )  / X.shape[0]\n",
        "\n",
        "    loss_curve_train.append(total_loss_train  / len(train_loader)) \n",
        "    print(\"Epoch {}, Loss: {}\".format(epoch+1,total_loss_train / len(train_loader)) )\n"
      ],
      "metadata": {
        "colab": {
          "base_uri": "https://localhost:8080/"
        },
        "id": "tIPjKsld5e0z",
        "outputId": "6ad2f52e-06ac-4a43-c716-65b4937476fd"
      },
      "execution_count": 21,
      "outputs": [
        {
          "output_type": "stream",
          "name": "stdout",
          "text": [
            "Epoch 1, Loss: 2.200240533489154\n",
            "Epoch 2, Loss: 1.782633717888708\n",
            "Epoch 3, Loss: 1.1970924640388123\n",
            "Epoch 4, Loss: 0.8358487561821684\n",
            "Epoch 5, Loss: 0.6566912373627173\n",
            "Epoch 6, Loss: 0.5573094266373465\n",
            "Epoch 7, Loss: 0.4954910450207908\n",
            "Epoch 8, Loss: 0.4533853605707317\n",
            "Epoch 9, Loss: 0.4231940191278834\n",
            "Epoch 10, Loss: 0.40073383251614153\n",
            "Epoch 11, Loss: 0.38305526280771696\n",
            "Epoch 12, Loss: 0.3686263716138248\n",
            "Epoch 13, Loss: 0.35671226735880124\n",
            "Epoch 14, Loss: 0.3463486563056898\n",
            "Epoch 15, Loss: 0.3373165474310994\n",
            "Epoch 16, Loss: 0.3294871087426316\n",
            "Epoch 17, Loss: 0.32222362332887994\n",
            "Epoch 18, Loss: 0.31592540770991523\n",
            "Epoch 19, Loss: 0.30964909347771075\n",
            "Epoch 20, Loss: 0.30388374779937366\n"
          ]
        }
      ]
    },
    {
      "cell_type": "code",
      "source": [
        "plt.plot([i for i in range(epochs)],loss_curve_train,label=\"training loss\")\n",
        "plt.savefig('q32.png')"
      ],
      "metadata": {
        "id": "14uzCAKL62yP",
        "colab": {
          "base_uri": "https://localhost:8080/",
          "height": 265
        },
        "outputId": "2a22aa01-b69c-4924-ec62-5a135bf0be0b"
      },
      "execution_count": 22,
      "outputs": [
        {
          "output_type": "display_data",
          "data": {
            "text/plain": [
              "<Figure size 432x288 with 1 Axes>"
            ],
            "image/png": "[encoded data removed]"
          },
          "metadata": {
            "needs_background": "light"
          }
        }
      ]
    },
    {
      "cell_type": "code",
      "source": [
        "def predict_(inp):\n",
        "    # forward pass:\n",
        "    z1 = inp @ w1\n",
        "    a1 = sigmoid(z1)\n",
        "    z2 = a1 @ w2 \n",
        "    a2 = sigmoid(z2)\n",
        "    z3 = a2 @ w3 \n",
        "    a3 = softmax(z3)\n",
        "    return a3"
      ],
      "metadata": {
        "id": "ICvoDYjwPr2e"
      },
      "execution_count": 23,
      "outputs": []
    },
    {
      "cell_type": "code",
      "source": [
        "right_ = 0\n",
        "wrong_ = 0\n",
        "for batch_idx, (x, target) in enumerate(test_loader):\n",
        "    right_+= torch.sum((torch.argmax(predict_(x.view(-1, m)),dim=-1)==target)).numpy()\n",
        "    wrong_+=batch_size - torch.sum((torch.argmax(predict_(x.view(-1, m)),dim=-1)==target)).numpy()\n",
        "\n",
        "error = wrong_ /(right_+wrong_)\n"
      ],
      "metadata": {
        "id": "H0Y7R2KXOvrH"
      },
      "execution_count": 24,
      "outputs": []
    },
    {
      "cell_type": "code",
      "source": [
        "error"
      ],
      "metadata": {
        "id": "1UA-_e0m8PDi",
        "colab": {
          "base_uri": "https://localhost:8080/"
        },
        "outputId": "93d75b63-2b6f-40a6-b982-9fa1c0af5d00"
      },
      "execution_count": 25,
      "outputs": [
        {
          "output_type": "execute_result",
          "data": {
            "text/plain": [
              "0.09036624203821655"
            ]
          },
          "metadata": {},
          "execution_count": 25
        }
      ]
    },
    {
      "cell_type": "code",
      "source": [
        "class Net1(torch.nn.Module):\n",
        "    def __init__(self,n_channels):\n",
        "        super(Net1, self).__init__()\n",
        "        self.n_channels = n_channels\n",
        "        self.lin1 = nn.Linear(n_channels, 300,bias = False)\n",
        "        self.lin2 = nn.Linear(300, 200,bias = False)\n",
        "        self.lin3 = nn.Linear(200, 10,bias = False)\n",
        "        self.sigmoid = nn.Sigmoid()\n",
        "        self.softmax = nn.LogSoftmax(dim=1)\n",
        "        self.lin1\n",
        "    def forward(self,input_tensor):\n",
        "        e1 = self.lin1(input_tensor)\n",
        "        p1 = self.sigmoid(e1)\n",
        "        e2 = self.lin2(p1)\n",
        "        p2 = self.sigmoid(e2)\n",
        "        e3 = self.lin3(p2)\n",
        "        return e3\n",
        "\n"
      ],
      "metadata": {
        "id": "baOM1rafT5zC"
      },
      "execution_count": 26,
      "outputs": []
    },
    {
      "cell_type": "code",
      "source": [
        "model = Net1(m)\n",
        "torch.nn.init.kaiming_normal_(model.lin1.weight)\n",
        "torch.nn.init.kaiming_normal_(model.lin2.weight)\n",
        "torch.nn.init.kaiming_normal_(model.lin3.weight)\n",
        "\n",
        "optimizer = torch.optim.SGD(model.parameters(),lr=0.01, momentum = 0.)\n",
        "criteron = nn.CrossEntropyLoss()\n",
        "loss_curve_ll = []\n",
        "for epoch in range(epochs):\n",
        "    total_loss = 0\n",
        "    \n",
        "    for X_batch, y_batch in train_loader:\n",
        "        X = X_batch.view(-1, m)\n",
        "        output = model(X)\n",
        "        loss = criteron(output,y_batch )\n",
        "        optimizer.zero_grad()\n",
        "        loss.backward()\n",
        "        optimizer.step()\n",
        "        loss = loss.mean()\n",
        "        total_loss += loss.item()\n",
        "    loss_curve_ll.append(total_loss / len(train_loader)) \n",
        "    print(\"Epoch {}, Loss: {}\".format(epoch+1,total_loss / len(train_loader)) )\n",
        "\n",
        "\n"
      ],
      "metadata": {
        "id": "raC9Ms9_yNCh",
        "colab": {
          "base_uri": "https://localhost:8080/"
        },
        "outputId": "d4b20edc-fa89-4e5f-c2d3-fbf4c51f6774"
      },
      "execution_count": 27,
      "outputs": [
        {
          "output_type": "stream",
          "name": "stdout",
          "text": [
            "Epoch 1, Loss: 2.0183478537907225\n",
            "Epoch 2, Loss: 1.285514643388008\n",
            "Epoch 3, Loss: 0.8318600061732823\n",
            "Epoch 4, Loss: 0.6355043128609403\n",
            "Epoch 5, Loss: 0.5336141692105133\n",
            "Epoch 6, Loss: 0.47198494847840083\n",
            "Epoch 7, Loss: 0.43141148105930927\n",
            "Epoch 8, Loss: 0.40254141242582914\n",
            "Epoch 9, Loss: 0.3808577107404595\n",
            "Epoch 10, Loss: 0.36406866896317713\n",
            "Epoch 11, Loss: 0.350686244603032\n",
            "Epoch 12, Loss: 0.3392019558356388\n",
            "Epoch 13, Loss: 0.32974555988365145\n",
            "Epoch 14, Loss: 0.32130566832702806\n",
            "Epoch 15, Loss: 0.31372173187702196\n",
            "Epoch 16, Loss: 0.30718624355124513\n",
            "Epoch 17, Loss: 0.3012034409463024\n",
            "Epoch 18, Loss: 0.29582994077791536\n",
            "Epoch 19, Loss: 0.29031508010047585\n",
            "Epoch 20, Loss: 0.2853717250483377\n"
          ]
        }
      ]
    },
    {
      "cell_type": "code",
      "source": [
        "plt.plot([i for i in range(epochs)],loss_curve_ll,label=\"training loss\")\n",
        "plt.savefig('q33.png')"
      ],
      "metadata": {
        "id": "LMLAjDUe6MIs",
        "colab": {
          "base_uri": "https://localhost:8080/",
          "height": 265
        },
        "outputId": "012e584d-6b17-43a2-cb76-5a8aadb29066"
      },
      "execution_count": 28,
      "outputs": [
        {
          "output_type": "display_data",
          "data": {
            "text/plain": [
              "<Figure size 432x288 with 1 Axes>"
            ],
            "image/png": "[encoded data removed]"
          },
          "metadata": {
            "needs_background": "light"
          }
        }
      ]
    },
    {
      "cell_type": "code",
      "source": [
        "right_ = 0\n",
        "wrong_ = 0\n",
        "for batch_idx, (x, target) in enumerate(test_loader):\n",
        "    with torch.no_grad():\n",
        "      x_ = x.view(-1, m)\n",
        "      output = model(x_)\n",
        "      right_+= torch.sum((torch.argmax(output,dim=-1)==target)).numpy()\n",
        "      wrong_+=batch_size - torch.sum((torch.argmax(output,dim=-1)==target)).numpy()\n",
        "\n",
        "error = wrong_ /(right_+wrong_)"
      ],
      "metadata": {
        "id": "kycVX1gAzQdK"
      },
      "execution_count": 29,
      "outputs": []
    },
    {
      "cell_type": "code",
      "source": [
        "error"
      ],
      "metadata": {
        "id": "CGYdKB5W3TI7",
        "colab": {
          "base_uri": "https://localhost:8080/"
        },
        "outputId": "122c1a3e-9fac-4463-d1ad-377ded3309e5"
      },
      "execution_count": 30,
      "outputs": [
        {
          "output_type": "execute_result",
          "data": {
            "text/plain": [
              "0.08111066878980892"
            ]
          },
          "metadata": {},
          "execution_count": 30
        }
      ]
    },
    {
      "cell_type": "code",
      "source": [
        "model2 = Net1(m)\n",
        "epochs = 50\n",
        "torch.nn.init.zeros_(model.lin1.weight)\n",
        "torch.nn.init.zeros_(model.lin2.weight)\n",
        "torch.nn.init.zeros_(model.lin3.weight)\n",
        "optimizer = torch.optim.SGD(model.parameters(),lr=0.01, momentum = 0.)\n",
        "criteron = nn.CrossEntropyLoss()\n",
        "loss_curve_zero = []\n",
        "for epoch in range(epochs):\n",
        "    total_loss = 0\n",
        "    \n",
        "    for X_batch, y_batch in train_loader:\n",
        "        X = X_batch.view(-1, m)\n",
        "        output = model2(X)\n",
        "        loss = criteron(output,y_batch )\n",
        "        optimizer.zero_grad()\n",
        "        loss.backward()\n",
        "        optimizer.step()\n",
        "        loss = loss.mean()\n",
        "        total_loss += loss.item()\n",
        "    loss_curve_zero.append(total_loss / len(train_loader)) \n",
        "    if epoch % 5==0:\n",
        "      print(\"Epoch {}, Loss: {}\".format(epoch+1,total_loss / len(train_loader)) )"
      ],
      "metadata": {
        "colab": {
          "base_uri": "https://localhost:8080/"
        },
        "id": "xJxUAfWq3cZ5",
        "outputId": "4d7904f9-3652-444e-d221-11da3d667d03"
      },
      "execution_count": 31,
      "outputs": [
        {
          "output_type": "stream",
          "name": "stdout",
          "text": [
            "Epoch 1, Loss: 2.32592037059605\n",
            "Epoch 6, Loss: 2.3258932742482816\n",
            "Epoch 11, Loss: 2.325882365962844\n",
            "Epoch 16, Loss: 2.3259138476365666\n",
            "Epoch 21, Loss: 2.325861277356585\n",
            "Epoch 26, Loss: 2.3259047295238924\n",
            "Epoch 31, Loss: 2.3259032232674963\n",
            "Epoch 36, Loss: 2.325875974667352\n",
            "Epoch 41, Loss: 2.32588576406304\n",
            "Epoch 46, Loss: 2.325915304328333\n"
          ]
        }
      ]
    },
    {
      "cell_type": "code",
      "source": [
        "model.lin1.weight"
      ],
      "metadata": {
        "colab": {
          "base_uri": "https://localhost:8080/"
        },
        "id": "btglFCW_g-3R",
        "outputId": "3dc95407-e481-433e-bc30-9676e0a42c9f"
      },
      "execution_count": 32,
      "outputs": [
        {
          "output_type": "execute_result",
          "data": {
            "text/plain": [
              "Parameter containing:\n",
              "tensor([[0., 0., 0.,  ..., 0., 0., 0.],\n",
              "        [0., 0., 0.,  ..., 0., 0., 0.],\n",
              "        [0., 0., 0.,  ..., 0., 0., 0.],\n",
              "        ...,\n",
              "        [0., 0., 0.,  ..., 0., 0., 0.],\n",
              "        [0., 0., 0.,  ..., 0., 0., 0.],\n",
              "        [0., 0., 0.,  ..., 0., 0., 0.]], requires_grad=True)"
            ]
          },
          "metadata": {},
          "execution_count": 32
        }
      ]
    },
    {
      "cell_type": "code",
      "source": [
        "right_ = 0\n",
        "wrong_ = 0\n",
        "for batch_idx, (x, target) in enumerate(test_loader):\n",
        "    with torch.no_grad():\n",
        "      x_ = x.view(-1, m)\n",
        "      output = model2(x_)\n",
        "      right_+= torch.sum((torch.argmax(output,dim=-1)==target)).numpy()\n",
        "      wrong_+=batch_size - torch.sum((torch.argmax(output,dim=-1)==target)).numpy()\n",
        "\n",
        "error = wrong_ /(right_+wrong_)\n",
        "error"
      ],
      "metadata": {
        "id": "jLuxrcgu4kL_",
        "colab": {
          "base_uri": "https://localhost:8080/"
        },
        "outputId": "0ed04a9e-fc54-4808-cd51-34aa5dd8ae71"
      },
      "execution_count": 33,
      "outputs": [
        {
          "output_type": "execute_result",
          "data": {
            "text/plain": [
              "0.9034633757961783"
            ]
          },
          "metadata": {},
          "execution_count": 33
        }
      ]
    },
    {
      "cell_type": "code",
      "source": [
        "model3 = Net1(m)\n",
        "\n",
        "torch.nn.init.uniform_(model3.lin1.weight,-1,1)\n",
        "torch.nn.init.uniform_(model3.lin2.weight,-1,1)\n",
        "torch.nn.init.uniform_(model3.lin3.weight,-1,1)\n",
        "optimizer = torch.optim.SGD(model.parameters(),lr=0.01, momentum = 0.)\n",
        "criteron = nn.CrossEntropyLoss()\n",
        "loss_curve_unif = []\n",
        "for epoch in range(epochs):\n",
        "    total_loss = 0\n",
        "    \n",
        "    for X_batch, y_batch in train_loader:\n",
        "        X = X_batch.view(-1, m)\n",
        "        output = model3(X)\n",
        "        loss = criteron(output,y_batch )\n",
        "        optimizer.zero_grad()\n",
        "        loss.backward()\n",
        "        optimizer.step()\n",
        "        loss = loss.mean()\n",
        "        total_loss += loss.item()\n",
        "    loss_curve_unif.append(total_loss / len(train_loader)) \n",
        "    if epoch % 5==0:\n",
        "      print(\"Epoch {}, Loss: {}\".format(epoch+1,total_loss / len(train_loader)) )"
      ],
      "metadata": {
        "colab": {
          "base_uri": "https://localhost:8080/"
        },
        "id": "O3UzG_op6u5b",
        "outputId": "68ee3618-1526-47c8-8504-d3b0ea719b8c"
      },
      "execution_count": 34,
      "outputs": [
        {
          "output_type": "stream",
          "name": "stdout",
          "text": [
            "Epoch 1, Loss: 10.40896106020474\n",
            "Epoch 6, Loss: 10.409206152470636\n",
            "Epoch 11, Loss: 10.407523783539403\n",
            "Epoch 16, Loss: 10.408386442961215\n",
            "Epoch 21, Loss: 10.408573313308423\n",
            "Epoch 26, Loss: 10.408771012637661\n",
            "Epoch 31, Loss: 10.408711671320868\n",
            "Epoch 36, Loss: 10.409029653585796\n",
            "Epoch 41, Loss: 10.408378818650235\n",
            "Epoch 46, Loss: 10.408376975354356\n"
          ]
        }
      ]
    },
    {
      "cell_type": "code",
      "source": [
        "right_ = 0\n",
        "wrong_ = 0\n",
        "for batch_idx, (x, target) in enumerate(test_loader):\n",
        "    with torch.no_grad():\n",
        "      x_ = x.view(-1, m)\n",
        "      output = model3(x_)\n",
        "      right_+= torch.sum((torch.argmax(output,dim=-1)==target)).numpy()\n",
        "      wrong_+=batch_size - torch.sum((torch.argmax(output,dim=-1)==target)).numpy()\n",
        "\n",
        "error = wrong_ /(right_+wrong_)\n",
        "error "
      ],
      "metadata": {
        "id": "GDFRwaXP4lHe",
        "colab": {
          "base_uri": "https://localhost:8080/"
        },
        "outputId": "fcd3a1b5-5e4e-4c62-ba3a-c828bea187ac"
      },
      "execution_count": 35,
      "outputs": [
        {
          "output_type": "execute_result",
          "data": {
            "text/plain": [
              "0.8979896496815286"
            ]
          },
          "metadata": {},
          "execution_count": 35
        }
      ]
    },
    {
      "cell_type": "code",
      "source": [
        "\n",
        "plt.plot([i for i in range(epochs)],loss_curve_unif,label=\"training loss\")\n",
        "plt.savefig('q342.png')"
      ],
      "metadata": {
        "id": "t7hOu66v8ElT",
        "colab": {
          "base_uri": "https://localhost:8080/",
          "height": 276
        },
        "outputId": "dbea5f8f-0e98-4890-e5f4-748014fa8fcb"
      },
      "execution_count": 36,
      "outputs": [
        {
          "output_type": "display_data",
          "data": {
            "text/plain": [
              "<Figure size 432x288 with 1 Axes>"
            ],
            "image/png": "[encoded data removed]"
          },
          "metadata": {
            "needs_background": "light"
          }
        }
      ]
    },
    {
      "cell_type": "code",
      "source": [
        "plt.plot([i for i in range(epochs)],loss_curve_zero,label=\"training loss\")\n",
        "plt.savefig('q341.png')"
      ],
      "metadata": {
        "colab": {
          "base_uri": "https://localhost:8080/",
          "height": 276
        },
        "id": "5ZzvYIDgK_wh",
        "outputId": "13a7eeb2-a0d1-4e65-c2d0-ea63e12331a5"
      },
      "execution_count": 37,
      "outputs": [
        {
          "output_type": "display_data",
          "data": {
            "text/plain": [
              "<Figure size 432x288 with 1 Axes>"
            ],
            "image/png": "[encoded data removed]"
          },
          "metadata": {
            "needs_background": "light"
          }
        }
      ]
    },
    {
      "cell_type": "code",
      "source": [],
      "metadata": {
        "id": "YOlr0ObaEuAV"
      },
      "execution_count": 37,
      "outputs": []
    }
  ]
}